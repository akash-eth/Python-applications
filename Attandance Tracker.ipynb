{
 "cells": [
  {
   "cell_type": "code",
   "execution_count": 1,
   "metadata": {},
   "outputs": [
    {
     "name": "stdout",
     "output_type": "stream",
     "text": [
      "Enter total number of classes held in your course: \n",
      "50\n",
      "Enter the number of claases you have attended: \n",
      "34\n",
      "Is there any medical issue??? Please ans. in YES or NO : \n",
      "no\n",
      "your attendance is short only medical issues can save you!! \n",
      "\n",
      "No medical records availble!!!\n",
      "you are not allowed to attempt your exams :(\n"
     ]
    }
   ],
   "source": [
    "import time\n",
    "classes = float(input(\"Enter total number of classes held in your course: \\n\"))\n",
    "attended = float(input(\"Enter the number of claases you have attended: \\n\"))\n",
    "medical_issue = input(\"Is there any medical issue??? Please ans. in YES or NO : \\n\")\n",
    "percentage = attended/classes\n",
    "if percentage < 0.75:\n",
    "    print(\"your attendance is short only medical issues can save you!! \\n\")\n",
    "    if medical_issue==\"yes\":\n",
    "        time.sleep(5)\n",
    "        print(\"you are allowed on medical conditions!! \\n\")\n",
    "    elif medical_issue==\"no\":\n",
    "        time.sleep(5)\n",
    "        print(\"No medical records availble!!!\")\n",
    "        time.sleep(5)\n",
    "        print(\"you are not allowed to attempt your exams :(\" )\n",
    "else:\n",
    "    print(\"you are allowed to appear in your exams :) \")"
   ]
  },
  {
   "cell_type": "code",
   "execution_count": null,
   "metadata": {},
   "outputs": [],
   "source": []
  }
 ],
 "metadata": {
  "kernelspec": {
   "display_name": "Python 3",
   "language": "python",
   "name": "python3"
  },
  "language_info": {
   "codemirror_mode": {
    "name": "ipython",
    "version": 3
   },
   "file_extension": ".py",
   "mimetype": "text/x-python",
   "name": "python",
   "nbconvert_exporter": "python",
   "pygments_lexer": "ipython3",
   "version": "3.7.3"
  }
 },
 "nbformat": 4,
 "nbformat_minor": 4
}
